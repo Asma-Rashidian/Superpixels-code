{
 "cells": [
  {
   "cell_type": "code",
   "execution_count": null,
   "metadata": {},
   "outputs": [],
   "source": []
  },
  {
   "cell_type": "code",
   "execution_count": 1,
   "metadata": {},
   "outputs": [],
   "source": [
    "import warnings\n",
    "warnings.filterwarnings(\"ignore\")\n",
    "from  sklearn.cluster import KMeans\n",
    "from skimage.segmentation import slic\n",
    "from skimage.segmentation import mark_boundaries \n",
    "from skimage.util import img_as_float \n",
    "from skimage import io \n",
    "import numpy as np \n",
    "import matplotlib.pyplot as plt \n",
    "import cv2\n",
    "import os\n",
    "import sys "
   ]
  },
  {
   "cell_type": "code",
   "execution_count": 2,
   "metadata": {},
   "outputs": [],
   "source": [
    "class Superpixel ():\n",
    "    def __init__(self , image ,num_seg):\n",
    "        self.image = image \n",
    "        self.num_seg = num_seg\n",
    "        self.segmentList = []\n",
    "        \n",
    "\n",
    "    def segmentation (self):\n",
    "        \n",
    "        segments = slic(self.image , self.num_seg , sigma= 5)\n",
    "        self.segmentList.append(segments)\n",
    "        # show the output of slic \n",
    "        fig = plt.figure(\"Superpixel -- %d segments \" %(self.num_seg))\n",
    "        ax = fig.add_subplot(1,1,1)\n",
    "        ax.imshow(mark_boundaries(image , segments))\n",
    "        plt.axis(\"off\")\n",
    "        plt.show()\n",
    "        return print(self.segmentList)\n",
    "\n"
   ]
  },
  {
   "cell_type": "code",
   "execution_count": null,
   "metadata": {},
   "outputs": [],
   "source": []
  }
 ],
 "metadata": {
  "kernelspec": {
   "display_name": "Python 3",
   "language": "python",
   "name": "python3"
  },
  "language_info": {
   "codemirror_mode": {
    "name": "ipython",
    "version": 3
   },
   "file_extension": ".py",
   "mimetype": "text/x-python",
   "name": "python",
   "nbconvert_exporter": "python",
   "pygments_lexer": "ipython3",
   "version": "3.8.10"
  }
 },
 "nbformat": 4,
 "nbformat_minor": 4
}
